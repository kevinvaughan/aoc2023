{
 "cells": [
  {
   "cell_type": "code",
   "execution_count": 2,
   "metadata": {},
   "outputs": [],
   "source": [
    "with open(\"../input.txt\") as f:\n",
    "    input = [line.strip() for line in f.readlines()]\n",
    "# print(input)\n",
    "\n",
    "with open(\"../sample-input.txt\") as f:\n",
    "    sample_input = [line.strip() for line in f.readlines()]\n",
    "# print(f\"Input: {sample_input}\")"
   ]
  },
  {
   "cell_type": "code",
   "execution_count": 17,
   "metadata": {},
   "outputs": [],
   "source": [
    "from random import seed\n",
    "from intervaltree import Interval, IntervalTree\n",
    "from numpy import delete, full\n",
    "\n",
    "rules = input\n",
    "\n",
    "trees = {}\n",
    "# Create an IntervalTree\n",
    "step_tree : IntervalTree = None\n",
    "curr_map = None\n",
    "for rule in rules:\n",
    "    if rule.startswith(\"seeds:\"):\n",
    "        curr_map = 'bag-to-seed'\n",
    "        step_tree = IntervalTree()\n",
    "        seed_ranges = [int(x) for x in rule.split(\": \")[1].split(\" \")]\n",
    "        for i in range(0, len(seed_ranges), 2):\n",
    "            step_tree[seed_ranges[i]:(seed_ranges[i] + seed_ranges[i+1])] = 0\n",
    "        continue\n",
    "    if rule.endswith(\"map:\"):\n",
    "        curr_map = rule.split()[0]\n",
    "        step_tree = IntervalTree()\n",
    "        continue\n",
    "    values = rule.split()\n",
    "    if len(values) == 0:\n",
    "        if step_tree is not None:\n",
    "            trees[curr_map] = step_tree\n",
    "            step_tree = None\n",
    "        continue\n",
    "    dest_start, source_start, length = map(int, values)\n",
    "    step_tree[source_start:source_start + length] = dest_start - source_start\n",
    "if step_tree is not None and len(step_tree) > 0:\n",
    "    trees[curr_map] = step_tree"
   ]
  },
  {
   "cell_type": "code",
   "execution_count": 18,
   "metadata": {},
   "outputs": [
    {
     "name": "stdout",
     "output_type": "stream",
     "text": [
      "First location: 37806486\n"
     ]
    }
   ],
   "source": [
    "current_intervals = trees['bag-to-seed']\n",
    "for step in ['seed-to-soil', 'soil-to-fertilizer', 'fertilizer-to-water', 'water-to-light', 'light-to-temperature', 'temperature-to-humidity', 'humidity-to-location']:\n",
    "    # print(\"Step: \", step)\n",
    "    next_intervals = IntervalTree()\n",
    "    \n",
    "    for interval in current_intervals:\n",
    "        passthru = IntervalTree([interval])\n",
    "        # print(f\"  Interval: {interval}\")\n",
    "        for assoc_interval in trees[step][interval.begin:interval.end]:\n",
    "            intersection = (max(interval.begin, assoc_interval.begin), min(interval.end, assoc_interval.end))\n",
    "            passthru.chop(intersection[0], intersection[1])\n",
    "            next_interval = Interval(intersection[0] + assoc_interval.data, intersection[1] + assoc_interval.data, intersection)\n",
    "            # print(f\"    Assoc interval: {assoc_interval}, next interval: {next_interval}\")\n",
    "            next_intervals.add(next_interval)\n",
    "        \n",
    "        # print(f\"  Passthru: {passthru}\")\n",
    "        next_intervals.update(passthru)\n",
    "\n",
    "    current_intervals = next_intervals\n",
    "    # print(f\"  Next intervals: {next_intervals}\")\n",
    "    # print(\"\")\n",
    "\n",
    "# print(f\"Final intervals: {current_intervals}\")\n",
    "print(f\"First location: {current_intervals.range().begin}\")"
   ]
  }
 ],
 "metadata": {
  "kernelspec": {
   "display_name": "Python 3",
   "language": "python",
   "name": "python3"
  },
  "language_info": {
   "codemirror_mode": {
    "name": "ipython",
    "version": 3
   },
   "file_extension": ".py",
   "mimetype": "text/x-python",
   "name": "python",
   "nbconvert_exporter": "python",
   "pygments_lexer": "ipython3",
   "version": "3.10.13"
  }
 },
 "nbformat": 4,
 "nbformat_minor": 2
}
