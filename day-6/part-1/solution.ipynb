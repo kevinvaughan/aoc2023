{
 "cells": [
  {
   "cell_type": "code",
   "execution_count": 15,
   "metadata": {},
   "outputs": [],
   "source": [
    "with open(\"../input.txt\") as f:\n",
    "    input = [line.strip().split()[1:] for line in f.readlines()]\n",
    "# print(input)\n",
    "\n",
    "with open(\"../sample-input.txt\") as f:\n",
    "    sample_input = [line.strip().split()[1:] for line in f.readlines()]\n",
    "# print(f\"Input: {sample_input}\")"
   ]
  },
  {
   "cell_type": "code",
   "execution_count": 36,
   "metadata": {},
   "outputs": [
    {
     "name": "stdout",
     "output_type": "stream",
     "text": [
      "Race time: 58, Record distance: 434, Solutions: [8.85055832039012, 49.1494416796099]\n",
      "Race time: 81, Record distance: 1041, Solutions: [16.0408503827300, 64.9591496172700]\n",
      "Race time: 96, Record distance: 2219, Solutions: [38.8348486100883, 57.1651513899117]\n",
      "Race time: 76, Record distance: 1218, Solutions: [23.0000000000000, 53.0000000000000]\n",
      "[41, 48, 19, 31]\n"
     ]
    },
    {
     "data": {
      "text/latex": [
       "$\\displaystyle 1159152$"
      ],
      "text/plain": [
       "1159152"
      ]
     },
     "execution_count": 36,
     "metadata": {},
     "output_type": "execute_result"
    }
   ],
   "source": [
    "from functools import reduce\n",
    "from sympy import symbols, solve\n",
    "\n",
    "races = list(zip(*input))\n",
    "ways_to_win = []\n",
    "\n",
    "for race_time, record_distance in races:\n",
    "    s = symbols('s')\n",
    "    inequality = s * (int(race_time) - s) - int(record_distance) - 1\n",
    "    solutions = solve(inequality, s)\n",
    "    valid_solutions = [sol.evalf() for sol in solutions if sol.is_real]\n",
    "    print(f\"Race time: {race_time}, Record distance: {record_distance}, Solution span: {valid_solutions}\")\n",
    "    ways_to_win.append(valid_solutions[1].floor() - valid_solutions[0].ceiling() + 1)\n",
    "\n",
    "print(ways_to_win)\n",
    "reduce(lambda x, y: x * y, ways_to_win)"
   ]
  }
 ],
 "metadata": {
  "kernelspec": {
   "display_name": "Python 3",
   "language": "python",
   "name": "python3"
  },
  "language_info": {
   "codemirror_mode": {
    "name": "ipython",
    "version": 3
   },
   "file_extension": ".py",
   "mimetype": "text/x-python",
   "name": "python",
   "nbconvert_exporter": "python",
   "pygments_lexer": "ipython3",
   "version": "3.10.13"
  }
 },
 "nbformat": 4,
 "nbformat_minor": 2
}
