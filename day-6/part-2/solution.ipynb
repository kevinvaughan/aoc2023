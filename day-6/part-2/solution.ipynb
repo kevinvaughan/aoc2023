{
 "cells": [
  {
   "cell_type": "code",
   "execution_count": 1,
   "metadata": {},
   "outputs": [],
   "source": [
    "with open(\"../input.txt\") as f:\n",
    "    input = [line.strip().split()[1:] for line in f.readlines()]\n",
    "# print(input)\n",
    "\n",
    "with open(\"../sample-input.txt\") as f:\n",
    "    sample_input = [line.strip().split()[1:] for line in f.readlines()]\n",
    "# print(f\"Input: {sample_input}\")"
   ]
  },
  {
   "cell_type": "code",
   "execution_count": 10,
   "metadata": {},
   "outputs": [
    {
     "name": "stdout",
     "output_type": "stream",
     "text": [
      "Race time: 58819676, Record distance: 434104122191218, Solution span: [8653286.04657997, 50166389.9534200]\n",
      "[41513103]\n"
     ]
    },
    {
     "data": {
      "text/latex": [
       "$\\displaystyle 41513103$"
      ],
      "text/plain": [
       "41513103"
      ]
     },
     "execution_count": 10,
     "metadata": {},
     "output_type": "execute_result"
    }
   ],
   "source": [
    "from sympy import symbols, solve\n",
    "\n",
    "races = [''.join(x) for x in input]\n",
    "\n",
    "race_time = int(races[0])\n",
    "record_distance = int(races[1])\n",
    "\n",
    "s = symbols('s')\n",
    "inequality = s * (race_time - s) - record_distance - 1\n",
    "solutions = solve(inequality, s)\n",
    "valid_solutions = [sol.evalf() for sol in solutions if sol.is_real]\n",
    "print(f\"Race time: {race_time}, Record distance: {record_distance}, Solution span: {valid_solutions}\")\n",
    "print(f\"Ways to win: {valid_solutions[1].floor() - valid_solutions[0].ceiling() + 1}\")"
   ]
  }
 ],
 "metadata": {
  "kernelspec": {
   "display_name": "Python 3",
   "language": "python",
   "name": "python3"
  },
  "language_info": {
   "codemirror_mode": {
    "name": "ipython",
    "version": 3
   },
   "file_extension": ".py",
   "mimetype": "text/x-python",
   "name": "python",
   "nbconvert_exporter": "python",
   "pygments_lexer": "ipython3",
   "version": "3.10.13"
  }
 },
 "nbformat": 4,
 "nbformat_minor": 2
}
