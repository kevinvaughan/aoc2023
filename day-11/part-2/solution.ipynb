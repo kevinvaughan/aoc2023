{
 "cells": [
  {
   "cell_type": "code",
   "execution_count": 2,
   "metadata": {},
   "outputs": [
    {
     "name": "stdout",
     "output_type": "stream",
     "text": [
      "Input: ['...#......', '.......#..', '#.........', '..........', '......#...', '.#........', '.........#', '..........', '.......#..', '#...#.....']\n"
     ]
    }
   ],
   "source": [
    "with open(\"../input.txt\") as f:\n",
    "    input = [line.strip() for line in f.readlines()]\n",
    "# print(input)\n",
    "\n",
    "with open(\"../sample-input.txt\") as f:\n",
    "    sample_input = [line.strip() for line in f.readlines()]\n",
    "print(f\"Input: {sample_input}\")"
   ]
  },
  {
   "cell_type": "code",
   "execution_count": 55,
   "metadata": {},
   "outputs": [
    {
     "data": {
      "text/plain": [
       "746207878188"
      ]
     },
     "execution_count": 55,
     "metadata": {},
     "output_type": "execute_result"
    }
   ],
   "source": [
    "import numpy as np\n",
    "from itertools import combinations\n",
    "\n",
    "src = input.copy()\n",
    "expansion_factor = 1000000\n",
    "\n",
    "# Convert input to numpy array\n",
    "grid = np.array([list(row) for row in src])\n",
    "\n",
    "# each of these rows will be duplicated by expansion_factor - 1\n",
    "expanded_rows = np.where(np.all(grid == '.', axis=1))[0]\n",
    "# each of these cols will be duplicated by expansion_factor - 1\n",
    "expanded_cols = np.where(np.all(grid == '.', axis=0))[0]\n",
    "\n",
    "def adjust_point(point, expansion_factor):\n",
    "    # Adjust for rows\n",
    "    adjusted_point = point.copy()\n",
    "    for row in expanded_rows:\n",
    "        if point[0] >= row:\n",
    "            adjusted_point[0] += (expansion_factor - 1)\n",
    "    # Adjust for cols\n",
    "    for col in expanded_cols:\n",
    "        if point[1] >= col:\n",
    "            adjusted_point[1] += (expansion_factor - 1)\n",
    "    # print(f\"point: {point}, adjusted_point: {adjusted_point}\")\n",
    "    return adjusted_point\n",
    "\n",
    "sum([ sum(abs(x-y)) for (x, y) in list(combinations([adjust_point(x, expansion_factor) for x in np.argwhere(grid == '#')], 2)) ])"
   ]
  }
 ],
 "metadata": {
  "kernelspec": {
   "display_name": "Python 3",
   "language": "python",
   "name": "python3"
  },
  "language_info": {
   "codemirror_mode": {
    "name": "ipython",
    "version": 3
   },
   "file_extension": ".py",
   "mimetype": "text/x-python",
   "name": "python",
   "nbconvert_exporter": "python",
   "pygments_lexer": "ipython3",
   "version": "3.10.13"
  }
 },
 "nbformat": 4,
 "nbformat_minor": 2
}
