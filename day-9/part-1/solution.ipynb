{
 "cells": [
  {
   "cell_type": "code",
   "execution_count": 64,
   "metadata": {},
   "outputs": [],
   "source": [
    "with open(\"../input.txt\") as f:\n",
    "    input = [[int(num) for num in line.split()] for line in f.readlines()]\n",
    "# print(input)\n",
    "\n",
    "with open(\"../sample-input.txt\") as f:\n",
    "    sample_input = [[int(num) for num in line.split()] for line in f.readlines()]\n",
    "# print(f\"Input: {sample_input}\")"
   ]
  },
  {
   "cell_type": "code",
   "execution_count": 68,
   "metadata": {},
   "outputs": [
    {
     "data": {
      "text/plain": [
       "1974232246"
      ]
     },
     "execution_count": 68,
     "metadata": {},
     "output_type": "execute_result"
    }
   ],
   "source": [
    "src = input\n",
    "\n",
    "def predict_next_value(history):\n",
    "    if not history or len(history) < 2:\n",
    "        raise ValueError(\"History must contain at least two elements\")\n",
    "\n",
    "    def calculate_differences(seq):\n",
    "        return [seq[i + 1] - seq[i] for i in range(len(seq) - 1)]\n",
    "\n",
    "    levels_of_differences = []\n",
    "\n",
    "    current_level = history\n",
    "    while len(set(current_level)) > 1 and len(current_level) > 1:\n",
    "        current_level = calculate_differences(current_level)\n",
    "        levels_of_differences.append(current_level)\n",
    "\n",
    "    if not levels_of_differences or not levels_of_differences[-1]:\n",
    "        raise ValueError(\"Unable to find a consistent pattern in the sequence\")\n",
    "\n",
    "    next_value = history[-1]\n",
    "    for level in reversed(levels_of_differences):\n",
    "        next_value += level[-1]\n",
    "\n",
    "    return next_value\n",
    "\n",
    "sum([predict_next_value(seq) for seq in src])"
   ]
  }
 ],
 "metadata": {
  "kernelspec": {
   "display_name": "Python 3",
   "language": "python",
   "name": "python3"
  },
  "language_info": {
   "codemirror_mode": {
    "name": "ipython",
    "version": 3
   },
   "file_extension": ".py",
   "mimetype": "text/x-python",
   "name": "python",
   "nbconvert_exporter": "python",
   "pygments_lexer": "ipython3",
   "version": "3.10.13"
  }
 },
 "nbformat": 4,
 "nbformat_minor": 2
}
