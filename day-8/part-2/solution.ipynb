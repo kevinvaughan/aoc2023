{
 "cells": [
  {
   "cell_type": "code",
   "execution_count": 1,
   "metadata": {},
   "outputs": [],
   "source": [
    "with open(\"../input.txt\") as f:\n",
    "    input = [line.strip() for line in f.readlines()]\n",
    "# print(input)\n",
    "\n",
    "with open(\"sample-input.txt\") as f:\n",
    "    sample_input = [line.strip() for line in f.readlines()]\n",
    "# print(f\"Input: {sample_input}\")"
   ]
  },
  {
   "cell_type": "code",
   "execution_count": 2,
   "metadata": {},
   "outputs": [],
   "source": [
    "import numpy as np\n",
    "\n",
    "graph_data = input\n",
    "\n",
    "instructions = graph_data[0].strip()\n",
    "graph = {}\n",
    "for line in graph_data[2:]:\n",
    "    if line.strip():\n",
    "        node, children = line.strip().split(' = ')\n",
    "        left, right = children.strip('()').split(', ')\n",
    "        graph[node] = (left, right)\n",
    "\n",
    "node_indices = {node: idx for idx, node in enumerate(graph.keys())}\n",
    "\n",
    "start_nodes = np.zeros(len(node_indices))\n",
    "end_nodes = np.zeros(len(node_indices))\n",
    "left_connections = np.zeros((len(node_indices), len(node_indices)))\n",
    "right_connections = np.zeros((len(node_indices), len(node_indices)))\n",
    "\n",
    "for node, (left, right) in graph.items():\n",
    "    if node.endswith('A'):\n",
    "        start_nodes[node_indices[node]] = 1\n",
    "    if node.endswith('Z'):\n",
    "        end_nodes[node_indices[node]] = 1\n",
    "\n",
    "    if left in node_indices:\n",
    "        left_connections[node_indices[node], node_indices[left]] = 1\n",
    "    if right in node_indices:\n",
    "        right_connections[node_indices[node], node_indices[right]] = 1\n",
    "\n",
    "instruction_matrix = {'L': np.array(left_connections), 'R': np.array(right_connections)}\n",
    "\n",
    "def get_node_names(active_nodes):\n",
    "    return [node for node, idx in node_indices.items() if active_nodes[idx].any() == 1]"
   ]
  },
  {
   "cell_type": "code",
   "execution_count": null,
   "metadata": {},
   "outputs": [],
   "source": [
    "cycles = {}\n",
    "for node, node_idx in node_indices.items():\n",
    "    if not node.endswith('A'):\n",
    "        continue\n",
    "    state_vector = np.zeros_like(start_nodes)\n",
    "    state_vector[node_idx] = 1\n",
    "\n",
    "    step = 0\n",
    "    \n",
    "    while True:\n",
    "        step += 1\n",
    "        current_instruction = instructions[(step - 1) % len(instructions)]\n",
    "        state_vector = state_vector.dot(instruction_matrix[current_instruction])\n",
    "\n",
    "        if step % 10000 == 0:\n",
    "            print(f\"Step {step}, Nodes: {get_node_names(state_vector)}\")\n",
    "\n",
    "        if (state_vector.dot(end_nodes) == 1):\n",
    "            print(f\"Node: {node}, Total steps: {step}, Final nodes: {get_node_names(state_vector)}, end targets: {get_node_names(end_nodes)}\")\n",
    "            if node not in cycles:\n",
    "                cycles[node] = [step]\n",
    "            else:\n",
    "                cycles[node].append(step)\n",
    "            if len(cycles[node]) > 3:\n",
    "                break"
   ]
  },
  {
   "cell_type": "code",
   "execution_count": 13,
   "metadata": {},
   "outputs": [
    {
     "data": {
      "text/plain": [
       "{'TSA': [16343, 32686, 49029, 65372, 81715, 98058],\n",
       " 'JTA': [16897, 33794, 50691, 67588, 84485, 101382],\n",
       " 'BLA': [21883, 43766, 65649, 87532, 109415, 131298],\n",
       " 'NBA': [20221, 40442, 60663, 80884, 101105, 121326],\n",
       " 'AAA': [19667, 39334, 59001, 78668, 98335, 118002],\n",
       " 'QXA': [13019, 26038, 39057, 52076, 65095, 78114]}"
      ]
     },
     "metadata": {},
     "output_type": "display_data"
    },
    {
     "data": {
      "text/plain": [
       "{'TSA': [16343, 16343, 16343, 16343, 16343],\n",
       " 'JTA': [16897, 16897, 16897, 16897, 16897],\n",
       " 'BLA': [21883, 21883, 21883, 21883, 21883],\n",
       " 'NBA': [20221, 20221, 20221, 20221, 20221],\n",
       " 'AAA': [19667, 19667, 19667, 19667, 19667],\n",
       " 'QXA': [13019, 13019, 13019, 13019, 13019]}"
      ]
     },
     "metadata": {},
     "output_type": "display_data"
    }
   ],
   "source": [
    "# Peek-a-boo, I see you\n",
    "display(cycles)\n",
    "display({node: [cycle[i] - cycle[i-1] for i in range(1, len(cycle))] for node, cycle in cycles.items()})"
   ]
  },
  {
   "cell_type": "code",
   "execution_count": 22,
   "metadata": {},
   "outputs": [
    {
     "data": {
      "text/plain": [
       "19185263738117"
      ]
     },
     "execution_count": 22,
     "metadata": {},
     "output_type": "execute_result"
    }
   ],
   "source": [
    "from functools import reduce\n",
    "from math import gcd\n",
    "reduce(lambda a,b: a * b // gcd(a, b), [x[0] for i, x in cycles.items()])"
   ]
  }
 ],
 "metadata": {
  "kernelspec": {
   "display_name": "Python 3",
   "language": "python",
   "name": "python3"
  },
  "language_info": {
   "codemirror_mode": {
    "name": "ipython",
    "version": 3
   },
   "file_extension": ".py",
   "mimetype": "text/x-python",
   "name": "python",
   "nbconvert_exporter": "python",
   "pygments_lexer": "ipython3",
   "version": "3.10.13"
  }
 },
 "nbformat": 4,
 "nbformat_minor": 2
}
