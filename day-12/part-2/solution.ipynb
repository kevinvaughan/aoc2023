{
 "cells": [
  {
   "cell_type": "code",
   "execution_count": null,
   "metadata": {},
   "outputs": [],
   "source": [
    "with open(\"../input.txt\") as f:\n",
    "    input = [line.strip() for line in f.readlines()]\n",
    "# print(input)\n",
    "\n",
    "with open(\"../sample-input.txt\") as f:\n",
    "    sample_input = [line.strip() for line in f.readlines()]\n",
    "# print(f\"Input: {sample_input}\")\n",
    "    \n",
    "def load_records(input):\n",
    "    return [\n",
    "        ( rec.split(' ')[0], list(map(int, rec.split(' ')[1].split(','))) )\n",
    "        for rec in input\n",
    "    ]    \n",
    "\n",
    "print([(x[0], x[1]) for x in load_records(sample_input[0:5])])\n",
    "\n",
    "def unfold(layout, block_lengths, unfold_count = 1):\n",
    "    return ( '?'.join([layout] * unfold_count), block_lengths * unfold_count )\n",
    "\n",
    "print(unfold('???.###', [1,1,3], 5))"
   ]
  },
  {
   "cell_type": "code",
   "execution_count": null,
   "metadata": {},
   "outputs": [],
   "source": [
    "def find_valid_combinations(layout, block_lengths, index=0, group_index=0):\n",
    "    if group_index == len(block_lengths):\n",
    "        # Check if the remaining springs are all operational\n",
    "        return all(c != '#' for c in layout[index:])\n",
    "    if index >= len(layout):\n",
    "        return 0\n",
    "\n",
    "    if (index, group_index) in dp:\n",
    "        return dp[(index, group_index)]\n",
    "\n",
    "    total_count = 0\n",
    "    group_size = block_lengths[group_index]\n",
    "\n",
    "    # If current spring is operational or unknown, and not part of a damaged group\n",
    "    if layout[index] in '.?' and (group_index == 0 or index > 0 and layout[index - 1] != '#'):\n",
    "        total_count += find_valid_combinations(layout, block_lengths, index + 1, group_index)\n",
    "\n",
    "    # If enough space for a damaged group and not exceeding string length\n",
    "    if index + group_size <= len(layout) and (index == 0 or layout[index - 1] != '#'):\n",
    "        # Check if the group can be placed here\n",
    "        if all(c in '#?' for c in layout[index:index + group_size]) \\\n",
    "                and (index + group_size == len(layout) or layout[index + group_size] in '.?'):\n",
    "            # Replace unknowns with '#' for the group and count arrangements for the rest\n",
    "            new_conditions = layout[:index] + '#' * group_size + layout[index + group_size:]\n",
    "            total_count += find_valid_combinations(new_conditions, block_lengths, index + group_size + 1, group_index + 1)\n",
    "\n",
    "    dp[(index, group_index)] = total_count\n",
    "    return total_count\n",
    "\n",
    "total_combinations = 0\n",
    "for rec in load_records(input):\n",
    "    dp = {}\n",
    "    layout, block_lengths = unfold(rec[0], rec[1], 5)\n",
    "    total_combinations += find_valid_combinations(layout, block_lengths)\n",
    "\n",
    "print(f'{total_combinations} total combinations')"
   ]
  }
 ],
 "metadata": {
  "kernelspec": {
   "display_name": "Python 3",
   "language": "python",
   "name": "python3"
  },
  "language_info": {
   "codemirror_mode": {
    "name": "ipython",
    "version": 3
   },
   "file_extension": ".py",
   "mimetype": "text/x-python",
   "name": "python",
   "nbconvert_exporter": "python",
   "pygments_lexer": "ipython3",
   "version": "3.10.13"
  }
 },
 "nbformat": 4,
 "nbformat_minor": 2
}
