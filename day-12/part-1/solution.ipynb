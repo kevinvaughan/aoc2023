{
 "cells": [
  {
   "cell_type": "code",
   "execution_count": null,
   "metadata": {},
   "outputs": [],
   "source": [
    "with open(\"../input.txt\") as f:\n",
    "    input = [line.strip() for line in f.readlines()]\n",
    "# print(input)\n",
    "\n",
    "with open(\"../sample-input.txt\") as f:\n",
    "    sample_input = [line.strip() for line in f.readlines()]\n",
    "# print(f\"Input: {sample_input}\")\n",
    "    \n",
    "def load_records(input):\n",
    "    return [\n",
    "        (rec.split(' ')[0], rec.split(' ')[1].split(','), ' '.join(rec.split(' ')[2:])) if len(rec.split(' ')) > 2 else (rec.split(' ')[0], rec.split(' ')[1].split(','), None)\n",
    "        for rec in input\n",
    "    ]    \n",
    "\n",
    "print(load_records(sample_input[0:3]))"
   ]
  },
  {
   "cell_type": "code",
   "execution_count": null,
   "metadata": {},
   "outputs": [],
   "source": [
    "import re\n",
    "import itertools\n",
    "\n",
    "def compile_validator(block_lengths):\n",
    "    block_lengths_str = \"^[.?]*?\" + \"[.?]+\".join([\"([#?]{\" + p + \"})\" for p in block_lengths]) + \"[.?]*?$\"\n",
    "    return re.compile(block_lengths_str)\n",
    "\n",
    "def find_valid_combinations(layout, block_lengths):\n",
    "    validator = compile_validator(block_lengths)\n",
    "    question_marks_indices = [i for i, char in enumerate(layout) if char == '?']\n",
    "    valid_combinations = []\n",
    "\n",
    "    for combo in itertools.product(['.', '#'], repeat=len(question_marks_indices)):\n",
    "        candidate = list(layout)\n",
    "        for idx, replacement in zip(question_marks_indices, combo):\n",
    "            candidate[idx] = replacement\n",
    "        candidate_str = ''.join(candidate)\n",
    "        if validator.match(candidate_str):\n",
    "            valid_combinations.append(candidate_str)\n",
    "\n",
    "    return valid_combinations\n",
    "\n",
    "def debug_info(layout, block_lengths, valid_combinations, notes):\n",
    "    print(f\"Record: {layout}\", f\"Pattern: {block_lengths}\", \"Valid Combinations:\", *valid_combinations, sep=\"\\n\")\n",
    "    print(notes if notes else \"\", '----\\n')\n",
    "\n",
    "all_combinations = 0\n",
    "for rec in load_records(sample_input):\n",
    "    valid_combinations = find_valid_combinations(rec[0], rec[1])\n",
    "    all_combinations += len(valid_combinations)\n",
    "    # debug_info(rec[0], rec[1], valid_combinations, rec[2])\n",
    "\n",
    "print(f\"Total combinations: {all_combinations}\")\n",
    "\n"
   ]
  }
 ],
 "metadata": {
  "kernelspec": {
   "display_name": "Python 3",
   "language": "python",
   "name": "python3"
  },
  "language_info": {
   "codemirror_mode": {
    "name": "ipython",
    "version": 3
   },
   "file_extension": ".py",
   "mimetype": "text/x-python",
   "name": "python",
   "nbconvert_exporter": "python",
   "pygments_lexer": "ipython3",
   "version": "3.10.13"
  }
 },
 "nbformat": 4,
 "nbformat_minor": 2
}
