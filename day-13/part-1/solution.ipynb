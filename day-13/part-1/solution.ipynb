{
 "cells": [
  {
   "cell_type": "code",
   "execution_count": null,
   "metadata": {},
   "outputs": [],
   "source": [
    "with open(\"../input.txt\") as f:\n",
    "    input = [line.strip() for line in f.readlines()]\n",
    "# print(input)\n",
    "\n",
    "with open(\"../sample-input.txt\") as f:\n",
    "    sample_input = [line.strip() for line in f.readlines()]\n",
    "# print(f\"Input: {sample_input}\")\n",
    "    \n",
    "def load_patterns(input):\n",
    "    # split input array in to multiple arrays, one for each pattern which are separated by empty lines\n",
    "    patterns = []\n",
    "    pattern = []\n",
    "    for line in input:\n",
    "        if line == \"\":\n",
    "            patterns.append(pattern)\n",
    "            pattern = []\n",
    "        else:\n",
    "            pattern.append(line)\n",
    "    if len(pattern) > 0:\n",
    "        patterns.append(pattern)\n",
    "    return patterns\n",
    "\n",
    "print(load_patterns(sample_input))"
   ]
  },
  {
   "cell_type": "code",
   "execution_count": null,
   "metadata": {},
   "outputs": [],
   "source": [
    "def compare_elements(pattern, primary, secondary, is_vertical):\n",
    "    if is_vertical:\n",
    "        return pattern[primary][secondary]\n",
    "    else:\n",
    "        return pattern[secondary][primary]\n",
    "\n",
    "def find_reflection(pattern, is_vertical):\n",
    "    primary_limit, secondary_limit = (len(pattern[0]), len(pattern)) if is_vertical else (len(pattern), len(pattern[0]))\n",
    "\n",
    "    for center in range(1, primary_limit):\n",
    "        is_mirror = True\n",
    "        for offset in range(center):\n",
    "            for index in range(secondary_limit):\n",
    "                mirror_index = center + (center - offset) - 1\n",
    "                if mirror_index < primary_limit:\n",
    "                    if compare_elements(pattern, index, offset, is_vertical) != compare_elements(pattern, index, mirror_index, is_vertical):\n",
    "                        is_mirror = False\n",
    "                        break\n",
    "            if not is_mirror:\n",
    "                break\n",
    "        if is_mirror:\n",
    "            return center\n",
    "    return None\n",
    "\n",
    "def find_reflection_line(pattern):\n",
    "    # display(pattern)\n",
    "    horizontal_reflection = find_reflection(pattern, False)\n",
    "    if horizontal_reflection is not None:\n",
    "        # print(f\"Horizontal reflection found at {horizontal_reflection}\")\n",
    "        # display(pattern[:horizontal_reflection] + [\" \" * len(pattern[0])] + pattern[horizontal_reflection:], '---')\n",
    "        return ('horizontal', horizontal_reflection)\n",
    "    vertical_reflection = find_reflection(pattern, True)\n",
    "    if vertical_reflection is not None:\n",
    "        # print(f\"Vertical reflection found at {vertical_reflection}\")\n",
    "        # display([ row[:vertical_reflection] + \" \" + row[vertical_reflection:] for row in pattern ], '---')\n",
    "        return ('vertical', vertical_reflection)\n",
    "    return None\n",
    "\n",
    "sum([ x[1] * (1 if x[0] == 'vertical' else 100) for x in [find_reflection_line(pattern) for pattern in load_patterns(input) ]])"
   ]
  }
 ],
 "metadata": {
  "kernelspec": {
   "display_name": "Python 3",
   "language": "python",
   "name": "python3"
  },
  "language_info": {
   "codemirror_mode": {
    "name": "ipython",
    "version": 3
   },
   "file_extension": ".py",
   "mimetype": "text/x-python",
   "name": "python",
   "nbconvert_exporter": "python",
   "pygments_lexer": "ipython3",
   "version": "3.10.13"
  }
 },
 "nbformat": 4,
 "nbformat_minor": 2
}
