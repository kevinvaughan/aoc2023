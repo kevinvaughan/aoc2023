{
 "cells": [
  {
   "cell_type": "code",
   "execution_count": null,
   "metadata": {},
   "outputs": [],
   "source": [
    "with open(\"../input.txt\") as f:\n",
    "    input = [line.strip() for line in f.readlines()]\n",
    "# print(input)\n",
    "\n",
    "with open(\"../sample-input.txt\") as f:\n",
    "    sample_input = [line.strip() for line in f.readlines()]\n",
    "# print(f\"Input: {sample_input}\")"
   ]
  },
  {
   "cell_type": "code",
   "execution_count": null,
   "metadata": {},
   "outputs": [],
   "source": [
    "def calculate_total_load(grid):\n",
    "    num_rows = len(grid)\n",
    "    num_cols = len(grid[0]) if num_rows > 0 else 0\n",
    "\n",
    "    col_load = [0] * num_cols\n",
    "    col_potential = [[] for _ in range(num_cols)]\n",
    "\n",
    "    for row, cols in enumerate(grid):\n",
    "        for col in range(num_cols):\n",
    "            cell = cols[col]\n",
    "\n",
    "            if cell in ('.', 'O'):\n",
    "                col_potential[col].append(num_rows - row)\n",
    "                if cell == 'O':\n",
    "                    col_load[col] += col_potential[col].pop(0)\n",
    "\n",
    "            if cell == '#':\n",
    "                col_potential[col] = []\n",
    "\n",
    "    return sum(col_load)\n",
    "\n",
    "calculate_total_load(input)"
   ]
  }
 ],
 "metadata": {
  "kernelspec": {
   "display_name": "Python 3",
   "language": "python",
   "name": "python3"
  },
  "language_info": {
   "codemirror_mode": {
    "name": "ipython",
    "version": 3
   },
   "file_extension": ".py",
   "mimetype": "text/x-python",
   "name": "python",
   "nbconvert_exporter": "python",
   "pygments_lexer": "ipython3",
   "version": "3.10.13"
  }
 },
 "nbformat": 4,
 "nbformat_minor": 2
}
