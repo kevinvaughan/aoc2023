{
 "cells": [
  {
   "cell_type": "code",
   "execution_count": 1,
   "metadata": {},
   "outputs": [],
   "source": [
    "with open(\"../input.txt\") as f:\n",
    "    input = [line.strip() for line in f.readlines()]\n",
    "# print(input)\n",
    "\n",
    "with open(\"../sample-input.txt\") as f:\n",
    "    sample_input = [line.strip() for line in f.readlines()]\n",
    "# print(f\"Input: {sample_input}\")"
   ]
  },
  {
   "cell_type": "code",
   "execution_count": 3,
   "metadata": {},
   "outputs": [
    {
     "data": {
      "text/plain": [
       "105008"
      ]
     },
     "execution_count": 3,
     "metadata": {},
     "output_type": "execute_result"
    }
   ],
   "source": [
    "def grid_load(grid):\n",
    "    return sum([ load * row.count('O') for load, row in zip(range(1,len(grid)+1), grid[::-1]) ])\n",
    "\n",
    "def rotate_clockwise(grid):\n",
    "    return [''.join(row[::-1]) for row in zip(*grid)]\n",
    "\n",
    "def slide_rocks(grid):\n",
    "    num_rows = len(grid)\n",
    "    transposed_grid = [list(col) for col in zip(*grid)]\n",
    "\n",
    "    for col in transposed_grid:\n",
    "        # Find positions of rocks and obstacles\n",
    "        rock_positions = [i for i, cell in enumerate(col) if cell == 'O']\n",
    "        obstacle_positions = [i for i, cell in enumerate(col) if cell == '#']\n",
    "\n",
    "        # Reset column except for obstacles\n",
    "        for i in range(num_rows):\n",
    "            col[i] = '.' if i not in obstacle_positions else '#'\n",
    "\n",
    "        # Place rocks above obstacles or at the bottom\n",
    "        for rock_pos in rock_positions:\n",
    "            target_pos = rock_pos\n",
    "            while target_pos > 0 and col[target_pos - 1] == '.':\n",
    "                target_pos -= 1\n",
    "            col[target_pos] = 'O'\n",
    "\n",
    "    return [''.join(row) for row in zip(*transposed_grid)]\n",
    "\n",
    "def simulate_cycles(grid, cycle_count):\n",
    "    seen_states = list()\n",
    "    for cycle in range(cycle_count):\n",
    "        grid_str = ''.join(grid)\n",
    "        if grid_str in seen_states:\n",
    "            return (grid, cycle)\n",
    "        seen_states.append(grid_str)\n",
    "        for _ in range(4):\n",
    "            grid = slide_rocks(grid)\n",
    "            grid = rotate_clockwise(grid)\n",
    "    return (grid, cycle_count)\n",
    "\n",
    "cycle_target = 1000000000\n",
    "grid = input\n",
    "\n",
    "cycle_grid, cycle_start = simulate_cycles(grid, cycle_target)\n",
    "_, cycle_size = simulate_cycles(cycle_grid, cycle_start)\n",
    "cycle_chunks = (cycle_target - cycle_start) // cycle_size\n",
    "cycle_remainder = (cycle_target - cycle_start) % cycle_size\n",
    "final_grid, _ = simulate_cycles(cycle_grid, cycle_remainder)\n",
    "\n",
    "grid_load(final_grid)"
   ]
  }
 ],
 "metadata": {
  "kernelspec": {
   "display_name": "Python 3",
   "language": "python",
   "name": "python3"
  },
  "language_info": {
   "codemirror_mode": {
    "name": "ipython",
    "version": 3
   },
   "file_extension": ".py",
   "mimetype": "text/x-python",
   "name": "python",
   "nbconvert_exporter": "python",
   "pygments_lexer": "ipython3",
   "version": "3.10.13"
  }
 },
 "nbformat": 4,
 "nbformat_minor": 2
}
