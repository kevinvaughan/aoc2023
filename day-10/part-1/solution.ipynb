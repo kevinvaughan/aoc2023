{
 "cells": [
  {
   "cell_type": "code",
   "execution_count": 1,
   "metadata": {},
   "outputs": [
    {
     "name": "stdout",
     "output_type": "stream",
     "text": [
      "Input: ['..F7.', '.FJ|.', 'SJ.L7', '|F--J', 'LJ...']\n"
     ]
    }
   ],
   "source": [
    "with open(\"../input.txt\") as f:\n",
    "    input = [line.strip() for line in f.readlines()]\n",
    "# print(input)\n",
    "\n",
    "with open(\"../sample-input.txt\") as f:\n",
    "    sample_input = [line.strip() for line in f.readlines()]\n",
    "print(f\"Input: {sample_input}\")"
   ]
  },
  {
   "cell_type": "code",
   "execution_count": 2,
   "metadata": {},
   "outputs": [],
   "source": [
    "import numpy as np\n",
    "\n",
    "# tile mask\n",
    "tile_mask = {\n",
    "    '|' : 0b001,\n",
    "    '-' : 0b010,\n",
    "    'L' : 0b011,\n",
    "    'J' : 0b100,\n",
    "    '7' : 0b101,\n",
    "    'F' : 0b110,\n",
    "    'S' : 0b111,\n",
    "    '.' : 0b000,\n",
    "}\n",
    "def tile_from_mask(mask):\n",
    "    for k, v in tile_mask.items():\n",
    "        if v == mask:\n",
    "            return k\n",
    "    return '?'\n",
    "\n",
    "neighbor_masks = {\n",
    "    tile_mask['|'] : np.array([[0, 1, 0], [0, 0, 0], [0, 1, 0]]), # up and down\n",
    "    tile_mask['-'] : np.array([[0, 0, 0], [1, 0, 1], [0, 0, 0]]), # left and right\n",
    "    tile_mask['L'] : np.array([[0, 1, 0], [0, 0, 1], [0, 0, 0]]), # right and up\n",
    "    tile_mask['J'] : np.array([[0, 1, 0], [1, 0, 0], [0, 0, 0]]), # left and up\n",
    "    tile_mask['7'] : np.array([[0, 0, 0], [1, 0, 0], [0, 1, 0]]), # left and down\n",
    "    tile_mask['F'] : np.array([[0, 0, 0], [0, 0, 1], [0, 1, 0]]), # right and down\n",
    "    tile_mask['S'] : np.array([[0, 1, 0], [1, 0, 1], [0, 1, 0]]), # all\n",
    "}"
   ]
  },
  {
   "cell_type": "code",
   "execution_count": 3,
   "metadata": {},
   "outputs": [
    {
     "name": "stdout",
     "output_type": "stream",
     "text": [
      "Max distance in pipe from start: 6867\n"
     ]
    }
   ],
   "source": [
    "src = input.copy()\n",
    "\n",
    "def get_valid_neighbors(row, col, grid):\n",
    "    # Get the 3x3 neighborhood\n",
    "    neighborhood = grid[row-1:row+2, col-1:col+2]\n",
    "    mask = neighbor_masks[grid[row, col]]\n",
    "    return np.argwhere((neighborhood * mask) > 0) - 1 + [row, col]\n",
    "\n",
    "def update_distances(grid, dist_grid, curr_dist):\n",
    "    rows, cols = np.where(dist_grid == curr_dist)\n",
    "    for row, col in zip(rows, cols):\n",
    "        neighbors = get_valid_neighbors(row, col, grid)\n",
    "        for n_row, n_col in neighbors:\n",
    "            if np.isnan(dist_grid[n_row, n_col]):\n",
    "                dist_grid[n_row, n_col] = curr_dist + 1\n",
    "\n",
    "grid = np.array([list(row) for row in input])\n",
    "mask_grid = np.vectorize(tile_mask.get)(grid)\n",
    "padded_mask_grid = np.pad(mask_grid, pad_width=1, mode='constant', constant_values=0)\n",
    "\n",
    "# Initialize distance grid\n",
    "dist_grid = np.full_like(padded_mask_grid, np.nan, dtype=float)\n",
    "start_pos = np.argwhere(padded_mask_grid == tile_mask['S'])[0]\n",
    "curr_dist = 0\n",
    "dist_grid[tuple(start_pos)] = curr_dist\n",
    "\n",
    "# check cardinals from start_pos for matching neighbors THAT RECIPROCATE.\n",
    "# Specification guarantees we only have to care about this once.\n",
    "neighbors = get_valid_neighbors(*start_pos, padded_mask_grid)\n",
    "curr_dist += 1\n",
    "for n_row, n_col in neighbors:\n",
    "    if np.all(np.any(get_valid_neighbors(n_row, n_col, padded_mask_grid) == start_pos, axis=0)):\n",
    "        dist_grid[n_row, n_col] = curr_dist\n",
    "\n",
    "while np.any(np.isnan(dist_grid)) and np.any(dist_grid == curr_dist):\n",
    "    update_distances(padded_mask_grid, dist_grid, curr_dist)\n",
    "    curr_dist += 1\n",
    "\n",
    "# print(dist_grid)\n",
    "print(f\"Max distance in pipe from start: {int(np.nanmax(dist_grid))}\")"
   ]
  }
 ],
 "metadata": {
  "kernelspec": {
   "display_name": "Python 3",
   "language": "python",
   "name": "python3"
  },
  "language_info": {
   "codemirror_mode": {
    "name": "ipython",
    "version": 3
   },
   "file_extension": ".py",
   "mimetype": "text/x-python",
   "name": "python",
   "nbconvert_exporter": "python",
   "pygments_lexer": "ipython3",
   "version": "3.10.13"
  }
 },
 "nbformat": 4,
 "nbformat_minor": 2
}
